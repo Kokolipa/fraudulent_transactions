{
 "cells": [
  {
   "cell_type": "code",
   "execution_count": 1,
   "metadata": {},
   "outputs": [
    {
     "name": "stdout",
     "output_type": "stream",
     "text": [
      "Intel MKL WARNING: Support of Intel(R) Streaming SIMD Extensions 4.2 (Intel(R) SSE4.2) enabled only processors has been deprecated. Intel oneAPI Math Kernel Library 2025.0 will require Intel(R) Advanced Vector Extensions (Intel(R) AVX) instructions.\n",
      "Intel MKL WARNING: Support of Intel(R) Streaming SIMD Extensions 4.2 (Intel(R) SSE4.2) enabled only processors has been deprecated. Intel oneAPI Math Kernel Library 2025.0 will require Intel(R) Advanced Vector Extensions (Intel(R) AVX) instructions.\n"
     ]
    }
   ],
   "source": [
    "# Import Dependencies\n",
    "from faker import Faker\n",
    "import random\n",
    "import pandas as pd\n",
    "from datetime import datetime, timedelta"
   ]
  },
  {
   "cell_type": "code",
   "execution_count": 7,
   "metadata": {},
   "outputs": [
    {
     "ename": "TypeError",
     "evalue": "Provider.date_time_between_dates() got an unexpected keyword argument 'start_date'",
     "output_type": "error",
     "traceback": [
      "\u001b[0;31m---------------------------------------------------------------------------\u001b[0m",
      "\u001b[0;31mTypeError\u001b[0m                                 Traceback (most recent call last)",
      "Cell \u001b[0;32mIn[7], line 26\u001b[0m\n\u001b[1;32m     23\u001b[0m dob \u001b[39m=\u001b[39m (datetime\u001b[39m.\u001b[39mnow() \u001b[39m-\u001b[39m timedelta(days\u001b[39m=\u001b[39mage\u001b[39m*\u001b[39m\u001b[39m365\u001b[39m))\u001b[39m.\u001b[39mstrftime(\u001b[39m'\u001b[39m\u001b[39m%d\u001b[39;00m\u001b[39m/\u001b[39m\u001b[39m%\u001b[39m\u001b[39mm/\u001b[39m\u001b[39m%\u001b[39m\u001b[39mY\u001b[39m\u001b[39m'\u001b[39m)\n\u001b[1;32m     25\u001b[0m \u001b[39m# Generate a random transaction time within the specified date range\u001b[39;00m\n\u001b[0;32m---> 26\u001b[0m transaction_time \u001b[39m=\u001b[39m fake\u001b[39m.\u001b[39;49mdate_time_between_dates(start_date\u001b[39m=\u001b[39;49mstart_date, end_date\u001b[39m=\u001b[39;49mend_date)\n\u001b[1;32m     28\u001b[0m \u001b[39m# Check if it's time to generate a fraud transaction (every 7 days)\u001b[39;00m\n\u001b[1;32m     29\u001b[0m \u001b[39mif\u001b[39;00m last_fraud_transaction_time \u001b[39mis\u001b[39;00m \u001b[39mNone\u001b[39;00m \u001b[39mor\u001b[39;00m (transaction_time \u001b[39m-\u001b[39m last_fraud_transaction_time)\u001b[39m.\u001b[39mdays \u001b[39m>\u001b[39m\u001b[39m=\u001b[39m \u001b[39m7\u001b[39m:\n",
      "\u001b[0;31mTypeError\u001b[0m: Provider.date_time_between_dates() got an unexpected keyword argument 'start_date'"
     ]
    }
   ],
   "source": [
    "# Load existing data\n",
    "existing_data = pd.read_csv('fraudTrain.csv')\n",
    "\n",
    "# * Initialize Faker\n",
    "fake = Faker()\n",
    "\n",
    "#NOTE: Number of rows to generate\n",
    "num_rows = 1000 \n",
    "\n",
    "#NOTE: Define the daterange\n",
    "start_date = datetime(2022, 1, 1)  # * Change this to your desired start date\n",
    "end_date = datetime(2023, 1, 1)    # * Change this to your desired end date\n",
    "\n",
    "# * Generate Random Data Set\n",
    "data = []\n",
    "last_fraud_transaction_time = None\n",
    "\n",
    "for _ in range(num_rows):\n",
    "    # * Generate a random age between 18 and 90\n",
    "    age = random.randint(18, 90)\n",
    "    \n",
    "    # * Calculate date of birth based on the random age\n",
    "    dob = (datetime.now() - timedelta(days=age*365)).strftime('%d/%m/%Y')\n",
    "    \n",
    "    # * Generate a random number of days between start_date and end_date\n",
    "    random_days = random.randint(0, (end_date - start_date).days)\n",
    "    \n",
    "    # * Calculate transaction time within the date range\n",
    "    transaction_time = start_date + timedelta(days=random_days)\n",
    "    \n",
    "    # * Generating a fraudulent transaction every 7 days\n",
    "    if last_fraud_transaction_time is None or (transaction_time - last_fraud_transaction_time).days >= 7:\n",
    "        is_fraud = 1\n",
    "        last_fraud_transaction_time = transaction_time\n",
    "    else:\n",
    "        is_fraud = 0\n",
    "    \n",
    "    row = [\n",
    "        transaction_time.strftime('%d/%m/%Y %H:%M'),  #? trans_date_&_time\n",
    "        fake.credit_card_number(card_type='mastercard'),  #? cc_num\n",
    "        fake.company(),  #? merchant\n",
    "        fake.random_element(existing_data['category']),  #? category\n",
    "        round(random.uniform(1.0, 200.0), 2),  #? amt\n",
    "        fake.first_name(),  #? first\n",
    "        fake.last_name(),  #? last\n",
    "        fake.random_element(['M', 'F']),  #? gender\n",
    "        fake.street_address(),  #? street\n",
    "        fake.city(),  #? city\n",
    "        fake.state(),  #? state\n",
    "        fake.zipcode(),  #? zip\n",
    "        round(random.uniform(25.0, 50.0), 4),  #? lat\n",
    "        round(random.uniform(-125.0, -66.0), 4),  #? long\n",
    "        random.randint(1000, 100000),  #? city_pop\n",
    "        fake.job(),  #? job\n",
    "        dob,  #? dob\n",
    "        fake.uuid4(),  # trans_num\n",
    "        int(transaction_time.timestamp()),  #? unix_time\n",
    "        round(random.uniform(25.0, 50.0), 4),  #? merch_lat\n",
    "        round(random.uniform(-125.0, -66.0), 4),  #? merch_long\n",
    "        is_fraud  #? is_fraud\n",
    "    ]\n",
    "    data.append(row)\n",
    "\n",
    "#NOTE: Generate list of columns based on the existing data\n",
    "columns = list(existing_data.columns[1:])\n",
    "\n",
    "#NOTE: Create a DataFrame based on the data & columns variables\n",
    "df = pd.DataFrame(data, columns=columns)\n",
    "\n",
    "# Show the DataFrame head\n",
    "df.head()"
   ]
  },
  {
   "cell_type": "code",
   "execution_count": 5,
   "metadata": {},
   "outputs": [
    {
     "data": {
      "text/plain": [
       "0    990\n",
       "1     10\n",
       "Name: is_fraud, dtype: int64"
      ]
     },
     "execution_count": 5,
     "metadata": {},
     "output_type": "execute_result"
    }
   ],
   "source": [
    "# Show the proportion of the fradulant and non-fradulant transactions\n",
    "df['is_fraud'].value_counts()"
   ]
  },
  {
   "cell_type": "code",
   "execution_count": 6,
   "metadata": {},
   "outputs": [
    {
     "data": {
      "text/plain": [
       "0    0.99\n",
       "1    0.01\n",
       "Name: is_fraud, dtype: float64"
      ]
     },
     "execution_count": 6,
     "metadata": {},
     "output_type": "execute_result"
    }
   ],
   "source": [
    "df['is_fraud'].value_counts(normalize=True)"
   ]
  },
  {
   "cell_type": "code",
   "execution_count": null,
   "metadata": {},
   "outputs": [],
   "source": []
  }
 ],
 "metadata": {
  "kernelspec": {
   "display_name": "Python 3 (ipykernel)",
   "language": "python",
   "name": "python3"
  },
  "language_info": {
   "codemirror_mode": {
    "name": "ipython",
    "version": 3
   },
   "file_extension": ".py",
   "mimetype": "text/x-python",
   "name": "python",
   "nbconvert_exporter": "python",
   "pygments_lexer": "ipython3",
   "version": "3.10.11"
  }
 },
 "nbformat": 4,
 "nbformat_minor": 2
}
